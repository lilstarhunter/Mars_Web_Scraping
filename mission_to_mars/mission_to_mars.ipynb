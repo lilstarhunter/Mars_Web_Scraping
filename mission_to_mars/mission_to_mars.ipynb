{
 "cells": [
  {
   "cell_type": "code",
   "execution_count": 8,
   "metadata": {},
   "outputs": [],
   "source": [
    "#Step 1: Scraping Dependencies\n",
    "from bs4 import BeautifulSoup\n",
    "from splinter import Browser\n",
    "from selenium import webdriver\n",
    "\n",
    "#Step 2: Database Dependencies\n",
    "import pymongo\n",
    "\n",
    "#Python Dependencies\n",
    "import pandas as pd\n"
   ]
  },
  {
   "cell_type": "markdown",
   "metadata": {},
   "source": [
    "# STEP 1: Web Scraping"
   ]
  },
  {
   "cell_type": "markdown",
   "metadata": {},
   "source": [
    "### 1A. Use Splinter to create a browser object connected to NASA Mars website"
   ]
  },
  {
   "cell_type": "code",
   "execution_count": 9,
   "metadata": {},
   "outputs": [],
   "source": [
    "#define path to chrome driver\n",
    "executable_path = {'executable_path': '/chromedriver'}\n",
    "\n",
    "#Set default behaviors\n",
    "options = webdriver.ChromeOptions()\n",
    "options.add_argument(\"--start-maximized\")\n",
    "options.add_argument(\"--disable-notifications\")\n",
    "\n",
    "#Create browser object\n",
    "browser = Browser('chrome', **executable_path, headless=False)\n",
    "\n",
    "#Connect to NASA Mars webpage\n",
    "browser.visit(\"https://mars.nasa.gov/news/?page=0&per_page=40&order=publish_date+desc%2Ccreated_at+desc&search=&category=19%2C165%2C184%2C204&blank_scope=Latest\")"
   ]
  },
  {
   "cell_type": "markdown",
   "metadata": {},
   "source": [
    "### 1B. Use BeautifulSoup to parse HTML and retrieve information"
   ]
  },
  {
   "cell_type": "code",
   "execution_count": 13,
   "metadata": {
    "tags": []
   },
   "outputs": [],
   "source": [
    "#Create a soup object \n",
    "html = browser.html\n",
    "soup = BeautifulSoup(html, 'html.parser')"
   ]
  },
  {
   "cell_type": "code",
   "execution_count": 29,
   "metadata": {},
   "outputs": [],
   "source": [
    "#Access the titles and article teasers for each news article\n",
    "articles = soup.find_all(\"li\", class_=\"slide\")\n",
    "titles = []\n",
    "teasers = []\n",
    "\n",
    "for article in articles:\n",
    "    title = article.find('div', class_=\"content_title\").text\n",
    "    teaser = article.find('a').text\n",
    "    titles.append(title)\n",
    "    teasers.append(teaser)\n"
   ]
  },
  {
   "cell_type": "code",
   "execution_count": 102,
   "metadata": {},
   "outputs": [
    {
     "data": {
      "text/plain": [
       "[]"
      ]
     },
     "execution_count": 102,
     "metadata": {},
     "output_type": "execute_result"
    }
   ],
   "source": [
    "rows = soup.find_all(\"div\", class_=\"article_teaser_body\")\n",
    "\n",
    "teaser = []\n",
    "for row in rows:\n",
    "    body = row.next.strip()\n",
    "    teaser.append(body)\n",
    "teaser"
   ]
  },
  {
   "cell_type": "markdown",
   "metadata": {},
   "source": [
    "# Step2: MongoDB and Flask Application"
   ]
  },
  {
   "cell_type": "code",
   "execution_count": 85,
   "metadata": {},
   "outputs": [],
   "source": [
    "\n",
    "conn = 'mongodb://localhost:27017'\n",
    "client = pymongo.MongoClient(conn)"
   ]
  }
 ],
 "metadata": {
  "kernelspec": {
   "display_name": "Python [conda env:PythonData] *",
   "language": "python",
   "name": "conda-env-PythonData-py"
  },
  "language_info": {
   "codemirror_mode": {
    "name": "ipython",
    "version": 3
   },
   "file_extension": ".py",
   "mimetype": "text/x-python",
   "name": "python",
   "nbconvert_exporter": "python",
   "pygments_lexer": "ipython3",
   "version": "3.6.10"
  }
 },
 "nbformat": 4,
 "nbformat_minor": 2
}
