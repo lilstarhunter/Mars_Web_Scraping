{
 "cells": [
  {
   "cell_type": "code",
   "execution_count": 1,
   "metadata": {},
   "outputs": [],
   "source": [
    "#Step 1: Scraping Dependencies\n",
    "from bs4 import BeautifulSoup\n",
    "from splinter import Browser\n",
    "from selenium import webdriver\n",
    "from selenium.webdriver.common.by import By\n",
    "\n",
    "#Step 2: Database Dependencies\n",
    "import pymongo\n",
    "\n",
    "#Python Dependencies\n",
    "import pandas as pd\n",
    "import time\n"
   ]
  },
  {
   "cell_type": "markdown",
   "metadata": {},
   "source": [
    "# STEP 1: Web Scraping\n",
    "\n",
    "1. Use Splinter to create a browser object connected to NASA Mars website\n",
    "2. Use BeautifulSoup to parse HTML and retrieve information"
   ]
  },
  {
   "cell_type": "code",
   "execution_count": 24,
   "metadata": {},
   "outputs": [],
   "source": [
    "#define path to chrome driver\n",
    "executable_path = {'executable_path': '/chromedriver'}\n",
    "\n",
    "#Set default behaviors\n",
    "options = webdriver.ChromeOptions()\n",
    "options.add_argument(\"--start-maximized\")\n",
    "options.add_argument(\"--disable-notifications\")\n",
    "\n",
    "#Create browser object\n",
    "browser = Browser('chrome', **executable_path, headless=False)"
   ]
  },
  {
   "cell_type": "markdown",
   "metadata": {},
   "source": [
    "### NASA Mars News"
   ]
  },
  {
   "cell_type": "code",
   "execution_count": 25,
   "metadata": {
    "tags": []
   },
   "outputs": [],
   "source": [
    "#Connect to NASA Mars webpage\n",
    "browser.visit(\"https://mars.nasa.gov/news\")"
   ]
  },
  {
   "cell_type": "code",
   "execution_count": 26,
   "metadata": {},
   "outputs": [],
   "source": [
    "#Create a soup object \n",
    "html = browser.html\n",
    "soup = BeautifulSoup(html, 'lxml')"
   ]
  },
  {
   "cell_type": "code",
   "execution_count": 28,
   "metadata": {},
   "outputs": [
    {
     "name": "stdout",
     "output_type": "stream",
     "text": [
      "['My Culture, My Voice', \"NASA Readies Perseverance Mars Rover's Earthly Twin \", \"NASA Engineers Checking InSight's Weather Sensors\", \"Follow NASA's Perseverance Rover in Real Time on Its Way to Mars\", 'NASA Establishes Board to Initially Review Mars Sample Return Plans', \"NASA's Ingenuity Mars Helicopter Recharges Its Batteries in Flight\", \"Celebrate Mars Reconnaissance Orbiter's Views From Above\", \"NASA's MAVEN Observes Martian Night Sky Pulsing in Ultraviolet Light\", \"8 Martian Postcards to Celebrate Curiosity's Landing Anniversary\", 'NASA, ULA Launch Mars 2020 Perseverance Rover Mission to Red Planet', \"NASA's Perseverance Rover Will Carry First Spacesuit Materials to Mars\", \"A New Video Captures the Science of NASA's Perseverance Mars Rover\", 'NASA Invites Public to Share Excitement of Mars 2020 Perseverance Rover Launch', \"NASA's Mars Perseverance Rover Passes Flight Readiness Review\", 'NASA to Broadcast Mars 2020 Perseverance Launch, Prelaunch Activities', \"6 Things to Know About NASA's Ingenuity Mars Helicopter\", 'Join NASA for the Launch of the Mars 2020 Perseverance Rover', \"NASA's Perseverance Rover Attached to Atlas V Rocket\", '7 Things to Know About the Mars 2020 Perseverance Rover Mission', \"NASA's InSight Flexes Its Arm While Its 'Mole' Hits Pause\", \"Curiosity Mars Rover's Summer Road Trip Has Begun\", \"How NASA's Mars Helicopter Will Reach the Red Planet's Surface\", \"The Launch Is Approaching for NASA's Next Mars Rover, Perseverance\", 'NASA to Hold Mars 2020 Perseverance Rover Launch Briefing', \"While Stargazing on Mars, NASA's Curiosity Rover Spots Earth and Venus\", \"NASA's Mars Rover Drivers Need Your Help\", \"Three New Views of Mars' Moon Phobos\", \"The Extraordinary Sample-Gathering System of NASA's Perseverance Mars Rover\", \"The Detective Aboard NASA's Perseverance Rover\", 'MAVEN Maps Electric Currents around Mars that are Fundamental to Atmospheric Loss', \"Air Deliveries Bring NASA's Perseverance Mars Rover Closer to Launch\", \"NASA Wins 4 Webbys, 4 People's Voice Awards\", \"NASA's Perseverance Rover Goes Through Trials by Fire, Ice, Light and Sound\", \"NASA's Perseverance Rover Mission Getting in Shape for Launch\", 'NASA Perseverance Mars Rover Scientists Train in the Nevada Desert', \"NASA's Perseverance Rover Will Look at Mars Through These 'Eyes'\", \"Meet the People Behind NASA's Perseverance Rover\", \"Q&A with the Student Who Named Ingenuity, NASA's Mars Helicopter\", \"Alabama High School Student Names NASA's Mars Helicopter\", \"How NASA's Perseverance Mars Team Adjusted to Work in the Time of Coronavirus \"]\n"
     ]
    }
   ],
   "source": [
    "# Find all headlines\n",
    "articles = soup.findAll(\"li\", class_=\"slide\")\n",
    "titles = []\n",
    "teasers = []\n",
    "\n",
    "#Loop through headlines to scrape titles and teasers\n",
    "for article in articles:\n",
    "    title = article.find('div', class_=\"content_title\").text\n",
    "    titles.append(title)\n",
    "    teaser = article.find('div', class_=\"article_teaser_body\").text\n",
    "    teasers.append(teaser)"
   ]
  },
  {
   "cell_type": "markdown",
   "metadata": {},
   "source": [
    "### JPL Mars Space Images"
   ]
  },
  {
   "cell_type": "code",
   "execution_count": 6,
   "metadata": {},
   "outputs": [],
   "source": [
    "#Connect to JPL NASA web page\n",
    "browser.visit(\"https://www.jpl.nasa.gov/spaceimages/?search=&category=Mars\")"
   ]
  },
  {
   "cell_type": "code",
   "execution_count": 7,
   "metadata": {},
   "outputs": [],
   "source": [
    "#Create a soup object \n",
    "html = browser.html\n",
    "soup = BeautifulSoup(html, 'html.parser')"
   ]
  },
  {
   "cell_type": "code",
   "execution_count": 8,
   "metadata": {
    "scrolled": false
   },
   "outputs": [],
   "source": [
    "#Use Splinter to Click on full JPG image for featured image\n",
    "browser.find_by_id('full_image').first.click()"
   ]
  },
  {
   "cell_type": "code",
   "execution_count": 9,
   "metadata": {},
   "outputs": [],
   "source": [
    "pic = browser.links.find_by_partial_text(\"more info\")\n",
    "pic.click()"
   ]
  },
  {
   "cell_type": "code",
   "execution_count": 10,
   "metadata": {
    "scrolled": true,
    "tags": []
   },
   "outputs": [],
   "source": [
    "#Reset soup object\n",
    "html = browser.html\n",
    "soup = BeautifulSoup(html, 'html.parser')\n",
    "\n",
    "#Scrape image url\n",
    "img_url = soup.select_one(\"figure.lede a img\").get(\"src\")\n",
    "feat_image_url = \"https://www.jpl.nasa.gov\" + img_url"
   ]
  },
  {
   "cell_type": "markdown",
   "metadata": {},
   "source": [
    "### Mars Facts\n",
    "1. Use Pandas to scrape the table containing facts about the planet including Diameter, Mass, etc.\n",
    "2. Use Pandas to convert the data to a HTML table string."
   ]
  },
  {
   "cell_type": "code",
   "execution_count": 11,
   "metadata": {},
   "outputs": [],
   "source": [
    "url = 'https://space-facts.com/mars'\n",
    "\n",
    "#Convert url tables to pandas dataframe\n",
    "table = pd.read_html(url)"
   ]
  },
  {
   "cell_type": "code",
   "execution_count": 12,
   "metadata": {},
   "outputs": [],
   "source": [
    "#Reset Index to Attribute\n",
    "mars_facts = table[0]\n",
    "mars_facts.columns = [\"Attribute\", \"Value\"]\n",
    "mars_facts = mars_facts.set_index(\"Attribute\")"
   ]
  },
  {
   "cell_type": "code",
   "execution_count": 13,
   "metadata": {},
   "outputs": [],
   "source": [
    "#Convert Mars Profile table to an html table\n",
    "mars_facts = mars_facts.to_html(classes=\"table table-striped\")"
   ]
  },
  {
   "cell_type": "markdown",
   "metadata": {},
   "source": [
    "### Mars Hemispheres"
   ]
  },
  {
   "cell_type": "code",
   "execution_count": 20,
   "metadata": {},
   "outputs": [],
   "source": [
    " # Visit USGS webpage for Mars hemispehere images\n",
    "hemispheres_url = \"https://astrogeology.usgs.gov/search/results?q=hemisphere+enhanced&k1=target&v1=Mars\"\n",
    "browser.visit(hemispheres_url)\n",
    "time.sleep(5)\n",
    "\n",
    "html = browser.html\n",
    "\n",
    "# Parse HTML with Beautiful Soup\n",
    "soup = BeautifulSoup(html, \"html.parser\")"
   ]
  },
  {
   "cell_type": "code",
   "execution_count": 21,
   "metadata": {
    "tags": []
   },
   "outputs": [
    {
     "name": "stdout",
     "output_type": "stream",
     "text": [
      "[{'title': 'Cerberus Hemisphere ', 'img_url': 'https://astropedia.astrogeology.usgs.gov/download/Mars/Viking/cerberus_enhanced.tif/full.jpg'}, {'title': 'Schiaparelli Hemisphere ', 'img_url': 'https://astropedia.astrogeology.usgs.gov/download/Mars/Viking/schiaparelli_enhanced.tif/full.jpg'}, {'title': 'Syrtis Major Hemisphere ', 'img_url': 'https://astropedia.astrogeology.usgs.gov/download/Mars/Viking/syrtis_major_enhanced.tif/full.jpg'}, {'title': 'Valles Marineris Hemisphere ', 'img_url': 'https://astropedia.astrogeology.usgs.gov/download/Mars/Viking/valles_marineris_enhanced.tif/full.jpg'}]\n"
     ]
    }
   ],
   "source": [
    "# Create dictionary to store titles & links to images\n",
    "hemisphere_image_urls = []\n",
    "\n",
    "#Identifies the number of links (hemispheres)\n",
    "hemisphere_links = browser.find_by_css(\"a.product-item h3\")\n",
    "\n",
    "for i in range(len(hemisphere_links)):\n",
    "    \n",
    "    #Good for when navigato\n",
    "    browser.find_by_css(\"a.product-item h3\")[i].click()\n",
    "    \n",
    "    #Reset soup object\n",
    "    html = browser.html\n",
    "    soup = BeautifulSoup(html, 'lxml')\n",
    "\n",
    "    #Grab Hemisphere title, clean, save\n",
    "    title = soup.select_one(\"h2.title\").text\n",
    "    title = title.replace(\"Enhanced\", \"\")\n",
    "    \n",
    "    #Grab img url\n",
    "    img_url = soup.select_one(\"div.downloads a\")[\"href\"]\n",
    "\n",
    "    #Add hemisphere title and image url to hemisphere dictionary\n",
    "    hemisphere_image_urls.append({\"title\": title, \"img_url\": img_url})\n",
    "    \n",
    "    #return to original landing page\n",
    "    browser.back()\n",
    "\n",
    "print(hemisphere_image_urls)"
   ]
  },
  {
   "cell_type": "markdown",
   "metadata": {},
   "source": [
    "## Store all of the scraped data into a dictionary"
   ]
  },
  {
   "cell_type": "code",
   "execution_count": 31,
   "metadata": {},
   "outputs": [],
   "source": [
    "mars_data = {\n",
    "        \"titles\": titles,\n",
    "        \"teasers\": teasers,\n",
    "        \"featured_image_url\": feat_image_url,\n",
    "        \"mars_facts\": mars_facts,\n",
    "        \"hemisphere_image_urls\": hemisphere_image_urls\n",
    "    }"
   ]
  },
  {
   "cell_type": "code",
   "execution_count": 32,
   "metadata": {},
   "outputs": [
    {
     "data": {
      "text/plain": [
       "{'titles': ['My Culture, My Voice',\n",
       "  \"NASA Readies Perseverance Mars Rover's Earthly Twin \",\n",
       "  \"NASA Engineers Checking InSight's Weather Sensors\",\n",
       "  \"Follow NASA's Perseverance Rover in Real Time on Its Way to Mars\",\n",
       "  'NASA Establishes Board to Initially Review Mars Sample Return Plans',\n",
       "  \"NASA's Ingenuity Mars Helicopter Recharges Its Batteries in Flight\",\n",
       "  \"Celebrate Mars Reconnaissance Orbiter's Views From Above\",\n",
       "  \"NASA's MAVEN Observes Martian Night Sky Pulsing in Ultraviolet Light\",\n",
       "  \"8 Martian Postcards to Celebrate Curiosity's Landing Anniversary\",\n",
       "  'NASA, ULA Launch Mars 2020 Perseverance Rover Mission to Red Planet',\n",
       "  \"NASA's Perseverance Rover Will Carry First Spacesuit Materials to Mars\",\n",
       "  \"A New Video Captures the Science of NASA's Perseverance Mars Rover\",\n",
       "  'NASA Invites Public to Share Excitement of Mars 2020 Perseverance Rover Launch',\n",
       "  \"NASA's Mars Perseverance Rover Passes Flight Readiness Review\",\n",
       "  'NASA to Broadcast Mars 2020 Perseverance Launch, Prelaunch Activities',\n",
       "  \"6 Things to Know About NASA's Ingenuity Mars Helicopter\",\n",
       "  'Join NASA for the Launch of the Mars 2020 Perseverance Rover',\n",
       "  \"NASA's Perseverance Rover Attached to Atlas V Rocket\",\n",
       "  '7 Things to Know About the Mars 2020 Perseverance Rover Mission',\n",
       "  \"NASA's InSight Flexes Its Arm While Its 'Mole' Hits Pause\",\n",
       "  \"Curiosity Mars Rover's Summer Road Trip Has Begun\",\n",
       "  \"How NASA's Mars Helicopter Will Reach the Red Planet's Surface\",\n",
       "  \"The Launch Is Approaching for NASA's Next Mars Rover, Perseverance\",\n",
       "  'NASA to Hold Mars 2020 Perseverance Rover Launch Briefing',\n",
       "  \"While Stargazing on Mars, NASA's Curiosity Rover Spots Earth and Venus\",\n",
       "  \"NASA's Mars Rover Drivers Need Your Help\",\n",
       "  \"Three New Views of Mars' Moon Phobos\",\n",
       "  \"The Extraordinary Sample-Gathering System of NASA's Perseverance Mars Rover\",\n",
       "  \"The Detective Aboard NASA's Perseverance Rover\",\n",
       "  'MAVEN Maps Electric Currents around Mars that are Fundamental to Atmospheric Loss',\n",
       "  \"Air Deliveries Bring NASA's Perseverance Mars Rover Closer to Launch\",\n",
       "  \"NASA Wins 4 Webbys, 4 People's Voice Awards\",\n",
       "  \"NASA's Perseverance Rover Goes Through Trials by Fire, Ice, Light and Sound\",\n",
       "  \"NASA's Perseverance Rover Mission Getting in Shape for Launch\",\n",
       "  'NASA Perseverance Mars Rover Scientists Train in the Nevada Desert',\n",
       "  \"NASA's Perseverance Rover Will Look at Mars Through These 'Eyes'\",\n",
       "  \"Meet the People Behind NASA's Perseverance Rover\",\n",
       "  \"Q&A with the Student Who Named Ingenuity, NASA's Mars Helicopter\",\n",
       "  \"Alabama High School Student Names NASA's Mars Helicopter\",\n",
       "  \"How NASA's Perseverance Mars Team Adjusted to Work in the Time of Coronavirus \"],\n",
       " 'teasers': ['In honor of Hispanic Heritage Month, Christina Hernandez, an instrument engineer on the Mars 2020 mission, talks about her childhood and journey to NASA.',\n",
       "  \"Did you know NASA's next Mars rover has a nearly identical sibling on Earth for testing? Even better, it's about to roll for the first time through a replica Martian landscape.\",\n",
       "  'An electronics issue is suspected to be preventing the sensors from sharing their data about Mars weather with the spacecraft.',\n",
       "  \"A crisply rendered web application can show you where the agency's Mars 2020 mission is right now as it makes its way to the Red Planet for a Feb. 18, 2021, landing.\",\n",
       "  'The board will assist with analysis of current plans and goals for one of the most difficult missions humanity has ever undertaken.',\n",
       "  'Headed to the Red Planet with the Perseverance rover, the pioneering helicopter is powered up for the first time in interplanetary space as part of a systems check.',\n",
       "  'Marking its 15th anniversary since launch, one of the oldest spacecraft at the Red Planet has provided glimpses of dust devils, avalanches, and more.',\n",
       "  'Vast areas of the Martian night sky pulse in ultraviolet light, according to images from NASA’s MAVEN spacecraft. The results are being used to illuminate complex circulation patterns in the Martian atmosphere.',\n",
       "  'The NASA rover touched down eight years ago, on Aug. 5, 2012, and will soon be joined by a second rover, Perseverance.',\n",
       "  \"The agency's Mars 2020 mission is on its way. It will land at Jezero Crater in about seven months, on Feb. 18, 2021. \",\n",
       "  'In a Q&A, spacesuit designer Amy Ross explains how five samples, including a piece of helmet visor, will be tested aboard the rover, which is targeting a July 30 launch. ',\n",
       "  'With a targeted launch date of July 30, the next robotic scientist NASA is sending to the to the Red Planet has big ambitions.',\n",
       "  'There are lots of ways to participate in the historic event, which is targeted for July 30.',\n",
       "  \"\\u200bThe agency's Mars 2020 mission has one more big prelaunch review – the Launch Readiness Review, on July 27.\",\n",
       "  'Starting July 27, news activities will cover everything from mission engineering and science to returning samples from Mars to, of course, the launch itself.',\n",
       "  'The first helicopter attempting to fly on another planet is a marvel of engineering. Get up to speed with these key facts about its plans.',\n",
       "  'No matter where you live, choose from a menu of activities to join NASA as we \"Countdown to Mars\" and launch the Perseverance rover to the Red Planet.',\n",
       "  'Ready for its launch later in the month, the Mars-bound rover will touch terra firma no more.',\n",
       "  \"NASA's next rover to the Red Planet is slated to launch no earlier than July 30. These highlights will get you up to speed on the ambitious mission.\",\n",
       "  \"Now that the lander's robotic arm has helped the mole get underground, it will resume science activities that have been on hold.\",\n",
       "  'After more than a year in the \"clay-bearing unit,\" Curiosity is making a mile-long journey around some deep sand so that it can explore higher up Mount Sharp.',\n",
       "  'The small craft will seek to prove that powered, controlled flight is possible on another planet. But just getting it onto the surface of Mars will take a whole lot of ingenuity.',\n",
       "  \"The Red Planet's surface has been visited by eight NASA spacecraft. The ninth will be the first that includes a roundtrip ticket in its flight plan. \",\n",
       "  \"Learn more about the agency's next Red Planet mission during a live event on June 17.\",\n",
       "  \"This new portrait of the Red Planet's neighbors was taken during a time when there's more dust in the air on Mars.\",\n",
       "  'Using an online tool to label Martian terrain types, you can train an artificial intelligence algorithm that could improve the way engineers guide the Curiosity rover.',\n",
       "  \"Taken with the infrared camera aboard NASA's Odyssey orbiter, they reveal temperature variations on the small moon as it drifts into and out of Mars’ shadow.\",\n",
       "  'Two astronauts collected Moon rocks on Apollo 11. It will take three robotic systems working together to gather up the first Mars rock samples for return to Earth.',\n",
       "  'An instrument called SHERLOC will, with the help of its partner WATSON, hunt for signs of ancient life by detecting organic molecules and minerals.',\n",
       "  'Five years after NASA’s MAVEN spacecraft entered into orbit around Mars, data from the mission has led to the creation of a map of electric current systems in the Martian atmosphere.',\n",
       "  \"A NASA Wallops Flight Facility cargo plane transported more than two tons of equipment — including the rover's sample collection tubes — to Florida for this summer's liftoff.\",\n",
       "  'Winners include the JPL-managed \"Send Your Name to Mars\" campaign, NASA\\'s Global Climate Change website and Solar System Interactive.',\n",
       "  \"The agency's new Mars rover is put through a series of tests in vacuum chambers, acoustic chambers and more to get ready for the Red Planet.\",\n",
       "  'Stacking spacecraft components on top of each other is one of the final assembly steps before a mission launches to the Red Planet. ',\n",
       "  \"Team members searched for signs of ancient microscopic life there, just as NASA's latest rover will on the Red Planet next year.\",\n",
       "  'A pair of zoomable cameras will help scientists and rover drivers with high-resolution color images.',\n",
       "  \"These are the scientists and engineers who built NASA's next Mars rover and who will guide it to a safe landing in Jezero Crater. \",\n",
       "  'As a longtime fan of space exploration, Vaneeza Rupani appreciates the creativity and collaboration involved with trying to fly on another planet.',\n",
       "  \"Vaneeza Rupani's essay was chosen as the name for the small spacecraft, which will mark NASA's first attempt at powered flight on another planet.\",\n",
       "  'Like much of the rest of the world, the Mars rover team is pushing forward with its mission-critical work while putting the health and safety of their colleagues and community first.'],\n",
       " 'featured_image_url': 'https://www.jpl.nasa.gov/spaceimages/images/largesize/PIA17175_hires.jpg',\n",
       " 'mars_facts': '<table border=\"1\" class=\"dataframe table table-striped\">\\n  <thead>\\n    <tr style=\"text-align: right;\">\\n      <th></th>\\n      <th>Value</th>\\n    </tr>\\n    <tr>\\n      <th>Attribute</th>\\n      <th></th>\\n    </tr>\\n  </thead>\\n  <tbody>\\n    <tr>\\n      <th>Equatorial Diameter:</th>\\n      <td>6,792 km</td>\\n    </tr>\\n    <tr>\\n      <th>Polar Diameter:</th>\\n      <td>6,752 km</td>\\n    </tr>\\n    <tr>\\n      <th>Mass:</th>\\n      <td>6.39 × 10^23 kg (0.11 Earths)</td>\\n    </tr>\\n    <tr>\\n      <th>Moons:</th>\\n      <td>2 (Phobos &amp; Deimos)</td>\\n    </tr>\\n    <tr>\\n      <th>Orbit Distance:</th>\\n      <td>227,943,824 km (1.38 AU)</td>\\n    </tr>\\n    <tr>\\n      <th>Orbit Period:</th>\\n      <td>687 days (1.9 years)</td>\\n    </tr>\\n    <tr>\\n      <th>Surface Temperature:</th>\\n      <td>-87 to -5 °C</td>\\n    </tr>\\n    <tr>\\n      <th>First Record:</th>\\n      <td>2nd millennium BC</td>\\n    </tr>\\n    <tr>\\n      <th>Recorded By:</th>\\n      <td>Egyptian astronomers</td>\\n    </tr>\\n  </tbody>\\n</table>',\n",
       " 'hemisphere_image_urls': [{'title': 'Cerberus Hemisphere ',\n",
       "   'img_url': 'https://astropedia.astrogeology.usgs.gov/download/Mars/Viking/cerberus_enhanced.tif/full.jpg'},\n",
       "  {'title': 'Schiaparelli Hemisphere ',\n",
       "   'img_url': 'https://astropedia.astrogeology.usgs.gov/download/Mars/Viking/schiaparelli_enhanced.tif/full.jpg'},\n",
       "  {'title': 'Syrtis Major Hemisphere ',\n",
       "   'img_url': 'https://astropedia.astrogeology.usgs.gov/download/Mars/Viking/syrtis_major_enhanced.tif/full.jpg'},\n",
       "  {'title': 'Valles Marineris Hemisphere ',\n",
       "   'img_url': 'https://astropedia.astrogeology.usgs.gov/download/Mars/Viking/valles_marineris_enhanced.tif/full.jpg'}]}"
      ]
     },
     "execution_count": 32,
     "metadata": {},
     "output_type": "execute_result"
    }
   ],
   "source": [
    "mars_data"
   ]
  },
  {
   "cell_type": "markdown",
   "metadata": {},
   "source": [
    "# Step2: Create a MongoDB database to store Mars Info"
   ]
  },
  {
   "cell_type": "code",
   "execution_count": 33,
   "metadata": {},
   "outputs": [],
   "source": [
    "#Create a connection to \n",
    "conn = 'mongodb://localhost:27017'\n",
    "client = pymongo.MongoClient(conn)"
   ]
  },
  {
   "cell_type": "code",
   "execution_count": 34,
   "metadata": {
    "tags": []
   },
   "outputs": [
    {
     "data": {
      "text/plain": [
       "<pymongo.results.InsertOneResult at 0x7fdc3065e548>"
      ]
     },
     "execution_count": 34,
     "metadata": {},
     "output_type": "execute_result"
    }
   ],
   "source": [
    "#Create a MongoDB database\n",
    "db = client.mars_db\n",
    "\n",
    "#Add collection\n",
    "data_collection = db[\"mars\"]\n",
    "\n",
    "#Insert dictionary into mars_db\n",
    "data_collection.insert_one(mars_data)"
   ]
  }
 ],
 "metadata": {
  "kernelspec": {
   "display_name": "Python [conda env:PythonData] *",
   "language": "python",
   "name": "conda-env-PythonData-py"
  },
  "language_info": {
   "codemirror_mode": {
    "name": "ipython",
    "version": 3
   },
   "file_extension": ".py",
   "mimetype": "text/x-python",
   "name": "python",
   "nbconvert_exporter": "python",
   "pygments_lexer": "ipython3",
   "version": "3.6.10"
  }
 },
 "nbformat": 4,
 "nbformat_minor": 2
}
